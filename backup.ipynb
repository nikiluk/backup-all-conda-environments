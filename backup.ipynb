{
 "cells": [
  {
   "cell_type": "code",
   "execution_count": 2,
   "metadata": {},
   "outputs": [
    {
     "name": "stdout",
     "output_type": "stream",
     "text": [
      "Backing up... base\n",
      "Backing up... elsi\n",
      "Backing up... oe\n",
      "Backing up... oe-psl\n",
      "Backing up... oqapi\n",
      "Backing up... oqapiconda\n",
      "Backing up... p38\n",
      "Backup complete and stored in environments\\2022-02-13/\n"
     ]
    }
   ],
   "source": [
    "import subprocess as sub\n",
    "import pandas as pd\n",
    "import os\n",
    "import datetime\n",
    "\n",
    "def printDate():\n",
    "    # returns the string with the current date/time in minute\n",
    "    # example output '2016-05-23_16-31'\n",
    "\n",
    "    printDate =  datetime.datetime.now().isoformat().replace(\":\", \"-\")[:10]\n",
    "    #print(printDate)\n",
    "    return printDate\n",
    "\n",
    "date = printDate()\n",
    "dirname = os.path.join(\"environments\",date)\n",
    "os.system(\"mkdir \" + dirname)\n",
    "\n",
    "# create list of current environments\n",
    "sub.check_call(\" \".join(['conda','env','list','>',dirname+'/envs.txt']),shell=True)\n",
    "\n",
    "# load and parse environment names\n",
    "envs = pd.read_csv(dirname+\"/envs.txt\",header=1)\n",
    "env_names = envs['#'].str.split(expand=True)[0]\n",
    "\n",
    "# write environment packages out\n",
    "for env in env_names:\n",
    "    print(\"Backing up...\",env)\n",
    "    cmd = \"conda env export --name %s > %s\\%s.yml\" % (env,dirname,env)\n",
    "    sub.check_call(cmd,shell=True)\n",
    "\n",
    "print(\"Backup complete and stored in \"+dirname)"
   ]
  }
 ],
 "metadata": {
  "interpreter": {
   "hash": "9777fb61b55e1933eff332717eda7c0bd529e91992eea15ec22fe51e6d50818d"
  },
  "kernelspec": {
   "display_name": "Python 3.8.5 ('base')",
   "language": "python",
   "name": "python3"
  },
  "language_info": {
   "codemirror_mode": {
    "name": "ipython",
    "version": 3
   },
   "file_extension": ".py",
   "mimetype": "text/x-python",
   "name": "python",
   "nbconvert_exporter": "python",
   "pygments_lexer": "ipython3",
   "version": "3.8.5"
  },
  "orig_nbformat": 4
 },
 "nbformat": 4,
 "nbformat_minor": 2
}
